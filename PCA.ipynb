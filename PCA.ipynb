{
 "cells": [
  {
   "cell_type": "code",
   "execution_count": 1,
   "metadata": {},
   "outputs": [],
   "source": [
    "import matplotlib.pyplot as plt\n",
    "import numpy as np\n",
    "import pandas as pd\n",
    "from sklearn.decomposition import PCA"
   ]
  },
  {
   "cell_type": "code",
   "execution_count": 54,
   "metadata": {},
   "outputs": [
    {
     "data": {
      "text/html": [
       "<div>\n",
       "<style scoped>\n",
       "    .dataframe tbody tr th:only-of-type {\n",
       "        vertical-align: middle;\n",
       "    }\n",
       "\n",
       "    .dataframe tbody tr th {\n",
       "        vertical-align: top;\n",
       "    }\n",
       "\n",
       "    .dataframe thead th {\n",
       "        text-align: right;\n",
       "    }\n",
       "</style>\n",
       "<table border=\"1\" class=\"dataframe\">\n",
       "  <thead>\n",
       "    <tr style=\"text-align: right;\">\n",
       "      <th></th>\n",
       "      <th>freq</th>\n",
       "      <th>aoa</th>\n",
       "      <th>chord</th>\n",
       "      <th>vel</th>\n",
       "      <th>thickness</th>\n",
       "    </tr>\n",
       "  </thead>\n",
       "  <tbody>\n",
       "    <tr>\n",
       "      <th>1498</th>\n",
       "      <td>0.116162</td>\n",
       "      <td>0.702703</td>\n",
       "      <td>0.272727</td>\n",
       "      <td>0.199495</td>\n",
       "      <td>0.904111</td>\n",
       "    </tr>\n",
       "    <tr>\n",
       "      <th>1499</th>\n",
       "      <td>0.148990</td>\n",
       "      <td>0.702703</td>\n",
       "      <td>0.272727</td>\n",
       "      <td>0.199495</td>\n",
       "      <td>0.904111</td>\n",
       "    </tr>\n",
       "    <tr>\n",
       "      <th>1500</th>\n",
       "      <td>0.191919</td>\n",
       "      <td>0.702703</td>\n",
       "      <td>0.272727</td>\n",
       "      <td>0.199495</td>\n",
       "      <td>0.904111</td>\n",
       "    </tr>\n",
       "    <tr>\n",
       "      <th>1501</th>\n",
       "      <td>0.242424</td>\n",
       "      <td>0.702703</td>\n",
       "      <td>0.272727</td>\n",
       "      <td>0.199495</td>\n",
       "      <td>0.904111</td>\n",
       "    </tr>\n",
       "    <tr>\n",
       "      <th>1502</th>\n",
       "      <td>0.308081</td>\n",
       "      <td>0.702703</td>\n",
       "      <td>0.272727</td>\n",
       "      <td>0.199495</td>\n",
       "      <td>0.904111</td>\n",
       "    </tr>\n",
       "  </tbody>\n",
       "</table>\n",
       "</div>"
      ],
      "text/plain": [
       "          freq       aoa     chord       vel  thickness\n",
       "1498  0.116162  0.702703  0.272727  0.199495   0.904111\n",
       "1499  0.148990  0.702703  0.272727  0.199495   0.904111\n",
       "1500  0.191919  0.702703  0.272727  0.199495   0.904111\n",
       "1501  0.242424  0.702703  0.272727  0.199495   0.904111\n",
       "1502  0.308081  0.702703  0.272727  0.199495   0.904111"
      ]
     },
     "execution_count": 54,
     "metadata": {},
     "output_type": "execute_result"
    }
   ],
   "source": [
    "# load data\n",
    "np_data = np.load(\"data/dataRS.npy\")\n",
    "df = pd.DataFrame(np_data[:,:5], columns=[\"freq\",\"aoa\",\"chord\",\"vel\",\"thickness\"])#,\"noise\"])\n",
    "df.tail()"
   ]
  },
  {
   "cell_type": "code",
   "execution_count": 55,
   "metadata": {},
   "outputs": [
    {
     "data": {
      "text/html": [
       "<style type=\"text/css\">\n",
       "#T_9d319_row0_col0, #T_9d319_row1_col1, #T_9d319_row2_col2, #T_9d319_row3_col3, #T_9d319_row4_col4 {\n",
       "  background-color: #b40426;\n",
       "  color: #f1f1f1;\n",
       "}\n",
       "#T_9d319_row0_col1 {\n",
       "  background-color: #6b8df0;\n",
       "  color: #f1f1f1;\n",
       "}\n",
       "#T_9d319_row0_col2 {\n",
       "  background-color: #aac7fd;\n",
       "  color: #000000;\n",
       "}\n",
       "#T_9d319_row0_col3 {\n",
       "  background-color: #6687ed;\n",
       "  color: #f1f1f1;\n",
       "}\n",
       "#T_9d319_row0_col4, #T_9d319_row1_col0, #T_9d319_row1_col2, #T_9d319_row2_col1, #T_9d319_row4_col3 {\n",
       "  background-color: #3b4cc0;\n",
       "  color: #f1f1f1;\n",
       "}\n",
       "#T_9d319_row1_col3 {\n",
       "  background-color: #4c66d6;\n",
       "  color: #f1f1f1;\n",
       "}\n",
       "#T_9d319_row1_col4 {\n",
       "  background-color: #ee8468;\n",
       "  color: #f1f1f1;\n",
       "}\n",
       "#T_9d319_row2_col0 {\n",
       "  background-color: #80a3fa;\n",
       "  color: #f1f1f1;\n",
       "}\n",
       "#T_9d319_row2_col3, #T_9d319_row2_col4 {\n",
       "  background-color: #3c4ec2;\n",
       "  color: #f1f1f1;\n",
       "}\n",
       "#T_9d319_row3_col0 {\n",
       "  background-color: #a5c3fe;\n",
       "  color: #000000;\n",
       "}\n",
       "#T_9d319_row3_col1 {\n",
       "  background-color: #b7cff9;\n",
       "  color: #000000;\n",
       "}\n",
       "#T_9d319_row3_col2 {\n",
       "  background-color: #abc8fd;\n",
       "  color: #000000;\n",
       "}\n",
       "#T_9d319_row3_col4 {\n",
       "  background-color: #7699f6;\n",
       "  color: #f1f1f1;\n",
       "}\n",
       "#T_9d319_row4_col0 {\n",
       "  background-color: #445acc;\n",
       "  color: #f1f1f1;\n",
       "}\n",
       "#T_9d319_row4_col1 {\n",
       "  background-color: #e67259;\n",
       "  color: #f1f1f1;\n",
       "}\n",
       "#T_9d319_row4_col2 {\n",
       "  background-color: #779af7;\n",
       "  color: #f1f1f1;\n",
       "}\n",
       "</style>\n",
       "<table id=\"T_9d319\">\n",
       "  <thead>\n",
       "    <tr>\n",
       "      <th class=\"blank level0\" >&nbsp;</th>\n",
       "      <th id=\"T_9d319_level0_col0\" class=\"col_heading level0 col0\" >freq</th>\n",
       "      <th id=\"T_9d319_level0_col1\" class=\"col_heading level0 col1\" >aoa</th>\n",
       "      <th id=\"T_9d319_level0_col2\" class=\"col_heading level0 col2\" >chord</th>\n",
       "      <th id=\"T_9d319_level0_col3\" class=\"col_heading level0 col3\" >vel</th>\n",
       "      <th id=\"T_9d319_level0_col4\" class=\"col_heading level0 col4\" >thickness</th>\n",
       "    </tr>\n",
       "  </thead>\n",
       "  <tbody>\n",
       "    <tr>\n",
       "      <th id=\"T_9d319_level0_row0\" class=\"row_heading level0 row0\" >freq</th>\n",
       "      <td id=\"T_9d319_row0_col0\" class=\"data row0 col0\" >1.000000</td>\n",
       "      <td id=\"T_9d319_row0_col1\" class=\"data row0 col1\" >-0.272765</td>\n",
       "      <td id=\"T_9d319_row0_col2\" class=\"data row0 col2\" >-0.003661</td>\n",
       "      <td id=\"T_9d319_row0_col3\" class=\"data row0 col3\" >0.133664</td>\n",
       "      <td id=\"T_9d319_row0_col4\" class=\"data row0 col4\" >-0.230107</td>\n",
       "    </tr>\n",
       "    <tr>\n",
       "      <th id=\"T_9d319_level0_row1\" class=\"row_heading level0 row1\" >aoa</th>\n",
       "      <td id=\"T_9d319_row1_col0\" class=\"data row1 col0\" >-0.272765</td>\n",
       "      <td id=\"T_9d319_row1_col1\" class=\"data row1 col1\" >1.000000</td>\n",
       "      <td id=\"T_9d319_row1_col2\" class=\"data row1 col2\" >-0.504868</td>\n",
       "      <td id=\"T_9d319_row1_col3\" class=\"data row1 col3\" >0.058760</td>\n",
       "      <td id=\"T_9d319_row1_col4\" class=\"data row1 col4\" >0.753394</td>\n",
       "    </tr>\n",
       "    <tr>\n",
       "      <th id=\"T_9d319_level0_row2\" class=\"row_heading level0 row2\" >chord</th>\n",
       "      <td id=\"T_9d319_row2_col0\" class=\"data row2 col0\" >-0.003661</td>\n",
       "      <td id=\"T_9d319_row2_col1\" class=\"data row2 col1\" >-0.504868</td>\n",
       "      <td id=\"T_9d319_row2_col2\" class=\"data row2 col2\" >1.000000</td>\n",
       "      <td id=\"T_9d319_row2_col3\" class=\"data row2 col3\" >0.003787</td>\n",
       "      <td id=\"T_9d319_row2_col4\" class=\"data row2 col4\" >-0.220842</td>\n",
       "    </tr>\n",
       "    <tr>\n",
       "      <th id=\"T_9d319_level0_row3\" class=\"row_heading level0 row3\" >vel</th>\n",
       "      <td id=\"T_9d319_row3_col0\" class=\"data row3 col0\" >0.133664</td>\n",
       "      <td id=\"T_9d319_row3_col1\" class=\"data row3 col1\" >0.058760</td>\n",
       "      <td id=\"T_9d319_row3_col2\" class=\"data row3 col2\" >0.003787</td>\n",
       "      <td id=\"T_9d319_row3_col3\" class=\"data row3 col3\" >1.000000</td>\n",
       "      <td id=\"T_9d319_row3_col4\" class=\"data row3 col4\" >-0.003974</td>\n",
       "    </tr>\n",
       "    <tr>\n",
       "      <th id=\"T_9d319_level0_row4\" class=\"row_heading level0 row4\" >thickness</th>\n",
       "      <td id=\"T_9d319_row4_col0\" class=\"data row4 col0\" >-0.230107</td>\n",
       "      <td id=\"T_9d319_row4_col1\" class=\"data row4 col1\" >0.753394</td>\n",
       "      <td id=\"T_9d319_row4_col2\" class=\"data row4 col2\" >-0.220842</td>\n",
       "      <td id=\"T_9d319_row4_col3\" class=\"data row4 col3\" >-0.003974</td>\n",
       "      <td id=\"T_9d319_row4_col4\" class=\"data row4 col4\" >1.000000</td>\n",
       "    </tr>\n",
       "  </tbody>\n",
       "</table>\n"
      ],
      "text/plain": [
       "<pandas.io.formats.style.Styler at 0x1993796cd90>"
      ]
     },
     "execution_count": 55,
     "metadata": {},
     "output_type": "execute_result"
    }
   ],
   "source": [
    "# correlation matrix\n",
    "df.corr().style.background_gradient(cmap='coolwarm')"
   ]
  },
  {
   "cell_type": "code",
   "execution_count": 71,
   "metadata": {},
   "outputs": [
    {
     "name": "stdout",
     "output_type": "stream",
     "text": [
      "Shape before PCA:  (1503, 5)\n",
      "Shape after PCA:  (1503, 3)\n"
     ]
    }
   ],
   "source": [
    "# perform PCA\n",
    "latent_dim = 3\n",
    "pca = PCA(n_components=latent_dim,)\n",
    "pca_results = pca.fit_transform(df)\n",
    "print('Shape before PCA: ', df.shape)\n",
    "print('Shape after PCA: ', pca_results.shape)"
   ]
  },
  {
   "cell_type": "code",
   "execution_count": 72,
   "metadata": {},
   "outputs": [
    {
     "data": {
      "text/plain": [
       "<BarContainer object of 3 artists>"
      ]
     },
     "execution_count": 72,
     "metadata": {},
     "output_type": "execute_result"
    },
    {
     "data": {
      "image/png": "[encoded data removed]",
      "text/plain": [
       "<Figure size 640x480 with 1 Axes>"
      ]
     },
     "metadata": {},
     "output_type": "display_data"
    }
   ],
   "source": [
    "# show variance of pca features\n",
    "plt.bar(\n",
    "    range(1,len(pca.explained_variance_)+1),\n",
    "    pca.explained_variance_\n",
    "    )"
   ]
  },
  {
   "cell_type": "code",
   "execution_count": 61,
   "metadata": {},
   "outputs": [
    {
     "data": {
      "text/html": [
       "<style type=\"text/css\">\n",
       "#T_c282e_row0_col0, #T_c282e_row1_col1, #T_c282e_row2_col2 {\n",
       "  background-color: #b40426;\n",
       "  color: #f1f1f1;\n",
       "}\n",
       "#T_c282e_row0_col1, #T_c282e_row0_col2, #T_c282e_row1_col0, #T_c282e_row1_col2, #T_c282e_row2_col0, #T_c282e_row2_col1 {\n",
       "  background-color: #3b4cc0;\n",
       "  color: #f1f1f1;\n",
       "}\n",
       "</style>\n",
       "<table id=\"T_c282e\">\n",
       "  <thead>\n",
       "    <tr>\n",
       "      <th class=\"blank level0\" >&nbsp;</th>\n",
       "      <th id=\"T_c282e_level0_col0\" class=\"col_heading level0 col0\" >0</th>\n",
       "      <th id=\"T_c282e_level0_col1\" class=\"col_heading level0 col1\" >1</th>\n",
       "      <th id=\"T_c282e_level0_col2\" class=\"col_heading level0 col2\" >2</th>\n",
       "    </tr>\n",
       "  </thead>\n",
       "  <tbody>\n",
       "    <tr>\n",
       "      <th id=\"T_c282e_level0_row0\" class=\"row_heading level0 row0\" >0</th>\n",
       "      <td id=\"T_c282e_row0_col0\" class=\"data row0 col0\" >1.000000</td>\n",
       "      <td id=\"T_c282e_row0_col1\" class=\"data row0 col1\" >-0.000000</td>\n",
       "      <td id=\"T_c282e_row0_col2\" class=\"data row0 col2\" >0.000000</td>\n",
       "    </tr>\n",
       "    <tr>\n",
       "      <th id=\"T_c282e_level0_row1\" class=\"row_heading level0 row1\" >1</th>\n",
       "      <td id=\"T_c282e_row1_col0\" class=\"data row1 col0\" >-0.000000</td>\n",
       "      <td id=\"T_c282e_row1_col1\" class=\"data row1 col1\" >1.000000</td>\n",
       "      <td id=\"T_c282e_row1_col2\" class=\"data row1 col2\" >-0.000000</td>\n",
       "    </tr>\n",
       "    <tr>\n",
       "      <th id=\"T_c282e_level0_row2\" class=\"row_heading level0 row2\" >2</th>\n",
       "      <td id=\"T_c282e_row2_col0\" class=\"data row2 col0\" >0.000000</td>\n",
       "      <td id=\"T_c282e_row2_col1\" class=\"data row2 col1\" >-0.000000</td>\n",
       "      <td id=\"T_c282e_row2_col2\" class=\"data row2 col2\" >1.000000</td>\n",
       "    </tr>\n",
       "  </tbody>\n",
       "</table>\n"
      ],
      "text/plain": [
       "<pandas.io.formats.style.Styler at 0x1993793b430>"
      ]
     },
     "execution_count": 61,
     "metadata": {},
     "output_type": "execute_result"
    }
   ],
   "source": [
    "# correlation matrix\n",
    "pd.DataFrame(pca_results).corr().style.background_gradient(cmap='coolwarm')"
   ]
  },
  {
   "cell_type": "code",
   "execution_count": 62,
   "metadata": {},
   "outputs": [
    {
     "name": "stdout",
     "output_type": "stream",
     "text": [
      "(1503, 5)\n",
      "(1503, 3)\n"
     ]
    }
   ],
   "source": [
    "components = pca.transform(df)\n",
    "projected = pca.inverse_transform(components)\n",
    "print(projected.shape)\n",
    "print(components.shape)"
   ]
  }
 ],
 "metadata": {
  "kernelspec": {
   "display_name": "Python 3",
   "language": "python",
   "name": "python3"
  },
  "language_info": {
   "codemirror_mode": {
    "name": "ipython",
    "version": 3
   },
   "file_extension": ".py",
   "mimetype": "text/x-python",
   "name": "python",
   "nbconvert_exporter": "python",
   "pygments_lexer": "ipython3",
   "version": "3.10.4"
  },
  "orig_nbformat": 4,
  "vscode": {
   "interpreter": {
    "hash": "cb6164d6f6dd98322bde9d26a164e558f160764e692185fac5f2ab12a0b62824"
   }
  }
 },
 "nbformat": 4,
 "nbformat_minor": 2
}
