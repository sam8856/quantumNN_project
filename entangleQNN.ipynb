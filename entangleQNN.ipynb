{
 "cells": [
  {
   "cell_type": "code",
   "execution_count": 1,
   "metadata": {},
   "outputs": [],
   "source": [
    "import numpy as np\n",
    "import tensorflow as tf\n",
    "import matplotlib.pyplot as plt\n",
    "import pennylane as qml\n",
    "\n",
    "from sklearn.model_selection import train_test_split\n",
    "\n",
    "# Direct classes included for easyness\n",
    "from tensorflow.keras.utils import plot_model\n",
    "from tensorflow.keras.backend import clear_session\n",
    "from tensorflow.keras.layers import Dense, Input\n",
    "from tensorflow.keras.backend import clear_session\n",
    "from tensorflow.keras.models import Sequential"
   ]
  },
  {
   "cell_type": "code",
   "execution_count": 2,
   "metadata": {},
   "outputs": [],
   "source": [
    "# Load data\n",
    "np_data = np.load(\"data/dataRS.npy\")\n",
    "\n",
    "noise_output = np_data[:,-1].reshape(len(np_data),1)\n",
    "input = np_data[:,:-1]\n",
    "\n",
    "# split data\n",
    "test_split = 0.33\n",
    "x_train, x_test, y_train, y_test = train_test_split(input, noise_output, test_size=test_split)\n",
    "# seed = np.random.seed(156703)\n",
    "# x_train, x_test = tf.keras.utils.split_dataset(input, right_size=test_split, shuffle = True, seed=seed)\n",
    "# y_train, y_test = tf.keras.utils.split_dataset(noise_output, right_size=test_split, shuffle = True, seed=seed)"
   ]
  },
  {
   "cell_type": "code",
   "execution_count": 10,
   "metadata": {},
   "outputs": [
    {
     "name": "stdout",
     "output_type": "stream",
     "text": [
      "[[0.54758558 0.54228646 0.67341617 0.30997225 0.06246545]\n",
      " [0.90296549 0.99427865 0.91982637 0.86783386 0.59014144]\n",
      " [0.50061688 0.00909228 0.22214854 0.73796146 0.82122782]\n",
      " [0.82764905 0.27674866 0.38866639 0.9743615  0.61135389]\n",
      " [0.03174203 0.24131792 0.85962804 0.14602323 0.05489669]\n",
      " [0.04023521 0.4863822  0.71978097 0.28301877 0.77353286]]\n",
      "[0.11616162 0.24324324 0.45454545 0.         0.08367534]\n"
     ]
    }
   ],
   "source": [
    "print(np.random.rand(n_layers,n_qubits))\n",
    "print(x_train[0,:])"
   ]
  },
  {
   "cell_type": "code",
   "execution_count": 16,
   "metadata": {},
   "outputs": [
    {
     "ename": "TypeError",
     "evalue": "KerasLayer.call() takes 2 positional arguments but 3 were given",
     "output_type": "error",
     "traceback": [
      "\u001b[1;31m---------------------------------------------------------------------------\u001b[0m",
      "\u001b[1;31mTypeError\u001b[0m                                 Traceback (most recent call last)",
      "Cell \u001b[1;32mIn[16], line 23\u001b[0m\n\u001b[0;32m     21\u001b[0m \u001b[39m# Visualize the quantum circuit\u001b[39;00m\n\u001b[0;32m     22\u001b[0m weights \u001b[39m=\u001b[39m np\u001b[39m.\u001b[39mrandom\u001b[39m.\u001b[39mrand(n_layers,n_qubits)\n\u001b[1;32m---> 23\u001b[0m \u001b[39mprint\u001b[39m(qml\u001b[39m.\u001b[39;49mdraw(qlayer)(x_train,weights))\n\u001b[0;32m     24\u001b[0m fig2, ax \u001b[39m=\u001b[39m qml\u001b[39m.\u001b[39mdraw_mpl(qlayer)(weights)\n\u001b[0;32m     25\u001b[0m plt\u001b[39m.\u001b[39mshow()\n",
      "File \u001b[1;32mc:\\Users\\Samuel\\AppData\\Local\\Programs\\Python\\Python310\\lib\\site-packages\\pennylane\\drawer\\draw.py:214\u001b[0m, in \u001b[0;36mdraw.<locals>.wrapper\u001b[1;34m(*args, **kwargs)\u001b[0m\n\u001b[0;32m    212\u001b[0m \u001b[39m@wraps\u001b[39m(qnode)\n\u001b[0;32m    213\u001b[0m \u001b[39mdef\u001b[39;00m \u001b[39mwrapper\u001b[39m(\u001b[39m*\u001b[39margs, \u001b[39m*\u001b[39m\u001b[39m*\u001b[39mkwargs):\n\u001b[1;32m--> 214\u001b[0m     tape \u001b[39m=\u001b[39m qml\u001b[39m.\u001b[39mtape\u001b[39m.\u001b[39mmake_qscript(qnode)(\u001b[39m*\u001b[39margs, \u001b[39m*\u001b[39m\u001b[39m*\u001b[39mkwargs)\n\u001b[0;32m    215\u001b[0m     _wire_order \u001b[39m=\u001b[39m wire_order \u001b[39mor\u001b[39;00m tape\u001b[39m.\u001b[39mwires\n\u001b[0;32m    217\u001b[0m     \u001b[39mreturn\u001b[39;00m tape_text(\n\u001b[0;32m    218\u001b[0m         tape,\n\u001b[0;32m    219\u001b[0m         wire_order\u001b[39m=\u001b[39m_wire_order,\n\u001b[1;32m   (...)\u001b[0m\n\u001b[0;32m    223\u001b[0m         max_length\u001b[39m=\u001b[39mmax_length,\n\u001b[0;32m    224\u001b[0m     )\n",
      "File \u001b[1;32mc:\\Users\\Samuel\\AppData\\Local\\Programs\\Python\\Python310\\lib\\site-packages\\pennylane\\tape\\qscript.py:1371\u001b[0m, in \u001b[0;36mmake_qscript.<locals>.wrapper\u001b[1;34m(*args, **kwargs)\u001b[0m\n\u001b[0;32m   1369\u001b[0m \u001b[39mdef\u001b[39;00m \u001b[39mwrapper\u001b[39m(\u001b[39m*\u001b[39margs, \u001b[39m*\u001b[39m\u001b[39m*\u001b[39mkwargs):\n\u001b[0;32m   1370\u001b[0m     \u001b[39mwith\u001b[39;00m AnnotatedQueue() \u001b[39mas\u001b[39;00m q:\n\u001b[1;32m-> 1371\u001b[0m         result \u001b[39m=\u001b[39m fn(\u001b[39m*\u001b[39margs, \u001b[39m*\u001b[39m\u001b[39m*\u001b[39mkwargs)\n\u001b[0;32m   1373\u001b[0m     qscript \u001b[39m=\u001b[39m QuantumScript\u001b[39m.\u001b[39mfrom_queue(q)\n\u001b[0;32m   1374\u001b[0m     qscript\u001b[39m.\u001b[39m_qfunc_output \u001b[39m=\u001b[39m result\n",
      "File \u001b[1;32mc:\\Users\\Samuel\\AppData\\Local\\Programs\\Python\\Python310\\lib\\site-packages\\keras\\utils\\traceback_utils.py:70\u001b[0m, in \u001b[0;36mfilter_traceback.<locals>.error_handler\u001b[1;34m(*args, **kwargs)\u001b[0m\n\u001b[0;32m     67\u001b[0m     filtered_tb \u001b[39m=\u001b[39m _process_traceback_frames(e\u001b[39m.\u001b[39m__traceback__)\n\u001b[0;32m     68\u001b[0m     \u001b[39m# To get the full stack trace, call:\u001b[39;00m\n\u001b[0;32m     69\u001b[0m     \u001b[39m# `tf.debugging.disable_traceback_filtering()`\u001b[39;00m\n\u001b[1;32m---> 70\u001b[0m     \u001b[39mraise\u001b[39;00m e\u001b[39m.\u001b[39mwith_traceback(filtered_tb) \u001b[39mfrom\u001b[39;00m \u001b[39mNone\u001b[39m\n\u001b[0;32m     71\u001b[0m \u001b[39mfinally\u001b[39;00m:\n\u001b[0;32m     72\u001b[0m     \u001b[39mdel\u001b[39;00m filtered_tb\n",
      "File \u001b[1;32mc:\\Users\\Samuel\\AppData\\Local\\Programs\\Python\\Python310\\lib\\site-packages\\keras\\utils\\traceback_utils.py:96\u001b[0m, in \u001b[0;36minject_argument_info_in_traceback.<locals>.error_handler\u001b[1;34m(*args, **kwargs)\u001b[0m\n\u001b[0;32m     94\u001b[0m bound_signature \u001b[39m=\u001b[39m \u001b[39mNone\u001b[39;00m\n\u001b[0;32m     95\u001b[0m \u001b[39mtry\u001b[39;00m:\n\u001b[1;32m---> 96\u001b[0m     \u001b[39mreturn\u001b[39;00m fn(\u001b[39m*\u001b[39margs, \u001b[39m*\u001b[39m\u001b[39m*\u001b[39mkwargs)\n\u001b[0;32m     97\u001b[0m \u001b[39mexcept\u001b[39;00m \u001b[39mException\u001b[39;00m \u001b[39mas\u001b[39;00m e:\n\u001b[0;32m     98\u001b[0m     \u001b[39mif\u001b[39;00m \u001b[39mhasattr\u001b[39m(e, \u001b[39m\"\u001b[39m\u001b[39m_keras_call_info_injected\u001b[39m\u001b[39m\"\u001b[39m):\n\u001b[0;32m     99\u001b[0m         \u001b[39m# Only inject info for the innermost failing call\u001b[39;00m\n",
      "\u001b[1;31mTypeError\u001b[0m: KerasLayer.call() takes 2 positional arguments but 3 were given"
     ]
    }
   ],
   "source": [
    "from pennylane import numpy as np\n",
    "from customEntanglerLayers import ToffoliEntanglerLayers \n",
    "# In a first try, we use as much qubits as we have input params\n",
    "\n",
    "n_qubits = x_train.shape[1]\n",
    "n_layers = 6\n",
    "weight_shapes = {\"weights\": (n_layers, n_qubits)}\n",
    "n_qcParams = n_layers*n_qubits\n",
    "\n",
    "dev = qml.device(\"default.qubit\", wires=n_qubits)  # number of shots default?\n",
    "\n",
    "@qml.qnode(dev)\n",
    "def qnode(inputs, weights):\n",
    "    qml.AngleEmbedding(inputs, wires=range(n_qubits), rotation='X')\n",
    "    #qml.StronglyEntanglingLayers(weight_shapes, wires=range(n_qubits), rotation=qml.RX)\n",
    "    ToffoliEntanglerLayers(weights, wires=range(n_qubits), rotation=qml.RX)\n",
    "    \n",
    "    return [qml.expval(qml.PauliZ(wires=i)) for i in range(n_qubits)]\n",
    "\n",
    "qlayer = qml.qnn.KerasLayer(qnode, weight_shapes, output_dim=n_qubits)\n",
    "# Visualize the quantum circuit\n",
    "weights = np.random.rand(n_layers,n_qubits)\n",
    "print(qml.draw(qlayer)(x_train,weights))\n",
    "fig2, ax = qml.draw_mpl(qlayer)(weights)\n",
    "plt.show()\n",
    "fig2.savefig(\"archive/Toffoli-18032023.png\")\n",
    "fig2.savefig(\"archive/Toffoli-18032023.pdf\")"
   ]
  },
  {
   "cell_type": "code",
   "execution_count": null,
   "metadata": {},
   "outputs": [],
   "source": [
    "#Create a simple ANN\n",
    "clear_session()\n",
    "layer_0 = Input(shape=(x_train.shape[1],))\n",
    "layer_1 = Dense(5, activation=\"relu\")\n",
    "layer_2 = Dense(5, activation=\"linear\")\n",
    "ann = Sequential([layer_0, layer_1, qlayer, layer_2])\n",
    "print(f\"Params in the quantum layer to train: {n_qcParams}\")\n",
    "ann.summary()\n",
    "\n",
    "plot_model(ann)"
   ]
  },
  {
   "cell_type": "code",
   "execution_count": null,
   "metadata": {},
   "outputs": [],
   "source": [
    "#Training\n",
    "#['mean_squared_error', 'mean_absolute_error','mean_squared_logarithmic_error', 'mean_absolute_percentage_error']\n",
    "opt = tf.keras.optimizers.RMSprop(learning_rate=0.2)\n",
    "ann.compile(opt, loss='mean_squared_error', metrics=['mean_squared_error', 'mean_absolute_error'])\n",
    "ann_history = ann.fit(x_train, y_train, epochs=50, batch_size=25, validation_split=0.25)"
   ]
  },
  {
   "cell_type": "code",
   "execution_count": null,
   "metadata": {},
   "outputs": [],
   "source": [
    "import numpy as np\n",
    "def plot_metrics(history):\n",
    "    n = len(history.history.keys())//2\n",
    "    fig,axs = plt.subplots(1,n, figsize=(18,5))\n",
    "\n",
    "    for i,[key,val] in enumerate(history.history.items()):\n",
    "        axs[i%n].plot(history.history[key], lw=4, label=key.replace(\"_\", \" \"))\n",
    "    \n",
    "    for ax in axs:\n",
    "        #ax.set_yscale(\"log\")\n",
    "        ax.set_xlabel(\"epoch\", fontsize=16)\n",
    "        ax.legend(fontsize=14)\n",
    "plot_metrics(ann_history)\n",
    "plt.savefig(\"archive/history-toffoli-16032023.png\")"
   ]
  },
  {
   "cell_type": "code",
   "execution_count": null,
   "metadata": {},
   "outputs": [],
   "source": [
    "evaluation = ann.evaluate(x_test[:-1], y_test[:-1])"
   ]
  },
  {
   "cell_type": "code",
   "execution_count": null,
   "metadata": {},
   "outputs": [],
   "source": [
    "ann.save(\"archive/model-toffoli-16032023.h5\")\n",
    "config = ann.get_config()\n",
    "np.save(\"archive/config-toffoli-16032023.npy\", config)"
   ]
  },
  {
   "cell_type": "code",
   "execution_count": null,
   "metadata": {},
   "outputs": [],
   "source": []
  }
 ],
 "metadata": {
  "kernelspec": {
   "display_name": "Python 3",
   "language": "python",
   "name": "python3"
  },
  "language_info": {
   "codemirror_mode": {
    "name": "ipython",
    "version": 3
   },
   "file_extension": ".py",
   "mimetype": "text/x-python",
   "name": "python",
   "nbconvert_exporter": "python",
   "pygments_lexer": "ipython3",
   "version": "3.10.9"
  },
  "orig_nbformat": 4,
  "vscode": {
   "interpreter": {
    "hash": "cb6164d6f6dd98322bde9d26a164e558f160764e692185fac5f2ab12a0b62824"
   }
  }
 },
 "nbformat": 4,
 "nbformat_minor": 2
}
