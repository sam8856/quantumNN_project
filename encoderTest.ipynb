{
 "cells": [
  {
   "cell_type": "code",
   "execution_count": null,
   "metadata": {},
   "outputs": [],
   "source": [
    "import numpy as np\n",
    "import tensorflow as tf\n",
    "import matplotlib.pyplot as plt\n",
    "\n",
    "from sklearn.decomposition import PCA\n",
    "from sklearn.model_selection import train_test_split\n",
    "\n",
    "from tensorflow.keras.layers import Dense, Input\n",
    "from tensorflow.keras.backend import clear_session\n",
    "from tensorflow.keras.models import Sequential, load_model\n",
    "from tensorflow.keras.utils import plot_model\n",
    "from tensorflow.keras.backend import clear_session"
   ]
  },
  {
   "cell_type": "code",
   "execution_count": null,
   "metadata": {},
   "outputs": [],
   "source": [
    "# load data\n",
    "np_data = np.load(\"data/dataRS.npy\")\n",
    "# ground truth\n",
    "noise_output = np_data[:,-1].reshape(len(np_data),1)\n",
    "input = np_data[:,:-1]\n",
    "\n",
    "# split data\n",
    "test_split = 0.33\n",
    "x_train, x_test, y_train, y_test = train_test_split(input, noise_output, test_size=test_split, random_state=42)"
   ]
  },
  {
   "cell_type": "markdown",
   "metadata": {},
   "source": [
    "### Enter your tag as unique id for saving"
   ]
  },
  {
   "cell_type": "code",
   "execution_count": null,
   "metadata": {},
   "outputs": [],
   "source": [
    "import time\n",
    "timestr = time.strftime(\"%d%m%Y\")\n",
    "tag = str(\"encoderTest\"+timestr)"
   ]
  },
  {
   "cell_type": "code",
   "execution_count": null,
   "metadata": {},
   "outputs": [],
   "source": [
    "latent_dim = 3\n",
    "pca = PCA(n_components=latent_dim,)\n",
    "dataPCA = pca.fit_transform(x_train)\n",
    "encoderClassical = np.load(\"data/ENCdata_autoencoder-18032023.npy\")\n",
    "encoderQuantum1 = np.load(\"data/ENCdata_quantumAutoencoder2-18032023.npy\")\n",
    "encoderQuantum2 = np.load(\"data/EENCdata_quantumAutoencoder1-19032023.npy\")\n",
    "print(dataPCA.shape(), encoderClassical.shape(), encoderQuantum1.shape(), encoderQuantum2.shape())"
   ]
  },
  {
   "cell_type": "code",
   "execution_count": null,
   "metadata": {},
   "outputs": [],
   "source": [
    "def plot_metrics(history):\n",
    "    n = len(history.history.keys())//2\n",
    "    fig,axs = plt.subplots(1,n, figsize=(18,5))\n",
    "\n",
    "    for i,[key,val] in enumerate(history.history.items()):\n",
    "        axs[i%n].plot(history.history[key], lw=4, label=key.replace(\"_\", \" \"))\n",
    "    \n",
    "    for ax in axs:\n",
    "        ax.set_yscale(\"log\")\n",
    "        ax.set_xlabel(\"epoch\", fontsize=16)\n",
    "        ax.legend(fontsize=14)"
   ]
  },
  {
   "cell_type": "code",
   "execution_count": null,
   "metadata": {},
   "outputs": [],
   "source": [
    "#Create a simple ANN\n",
    "clear_session()\n",
    "layer_0 = Input(shape=(3,))\n",
    "layer_1 = Dense(3, activation=\"relu\")\n",
    "layer_2 = Dense(1, activation=\"relu\")\n",
    "ann = Sequential([layer_0, layer_1, layer_2])\n",
    "ann.summary()"
   ]
  },
  {
   "cell_type": "code",
   "execution_count": null,
   "metadata": {},
   "outputs": [],
   "source": [
    "layer_0 = Input(shape=(3,))\n",
    "layer_1 = Dense(3, activation=\"relu\")\n",
    "layer_2 = Dense(1, activation=\"relu\")\n",
    "annPCA = Sequential([layer_0, layer_1, layer_2])\n",
    "annPCA.compile(optimizer = 'rmsprop', loss='mean_squared_error', metrics=['mean_absolute_error'])\n",
    "ann_historyPCA = annPCA.fit(dataPCA, y_train, epochs=250, batch_size=25, validation_split=0.25)\n",
    "plot_metrics(ann_historyPCA)"
   ]
  },
  {
   "cell_type": "code",
   "execution_count": null,
   "metadata": {},
   "outputs": [],
   "source": [
    "layer_0 = Input(shape=(3,))\n",
    "layer_1 = Dense(3, activation=\"relu\")\n",
    "layer_2 = Dense(1, activation=\"relu\")\n",
    "annAEC = Sequential([layer_0, layer_1, layer_2])\n",
    "annAEC.compile(optimizer = 'rmsprop', loss='mean_squared_error', metrics=['mean_absolute_error'])\n",
    "ann_historyAEC = annAEC.fit(encoderClassical, y_train, epochs=250, batch_size=25, validation_split=0.25)\n",
    "plot_metrics(ann_historyAEC)"
   ]
  },
  {
   "cell_type": "code",
   "execution_count": null,
   "metadata": {},
   "outputs": [],
   "source": [
    "layer_0 = Input(shape=(3,))\n",
    "layer_1 = Dense(3, activation=\"relu\")\n",
    "layer_2 = Dense(1, activation=\"relu\")\n",
    "annAEQ1 = Sequential([layer_0, layer_1, layer_2])\n",
    "annAEQ1.compile(optimizer = 'rmsprop', loss='mean_squared_error', metrics=['mean_absolute_error'])\n",
    "ann_historyAEQ1 = annAEQ1.fit(encoderQuantum1, y_train, epochs=250, batch_size=25, validation_split=0.25)\n",
    "plot_metrics(ann_historyAEQ1)"
   ]
  },
  {
   "cell_type": "code",
   "execution_count": null,
   "metadata": {},
   "outputs": [],
   "source": [
    "layer_0 = Input(shape=(3,))\n",
    "layer_1 = Dense(3, activation=\"relu\")\n",
    "layer_2 = Dense(1, activation=\"relu\")\n",
    "annAEQ2 = Sequential([layer_0, layer_1, layer_2])\n",
    "annAEQ2.compile(optimizer = 'rmsprop', loss='mean_squared_error', metrics=['mean_absolute_error'])\n",
    "ann_historyAEQ2 = annAEQ2.fit(encoderQuantum2, y_train, epochs=250, batch_size=25, validation_split=0.25)\n",
    "plot_metrics(ann_historyAEQ2)"
   ]
  },
  {
   "cell_type": "code",
   "execution_count": null,
   "metadata": {},
   "outputs": [],
   "source": [
    "fig,axs = plt.subfigure(2,2)\n",
    "axs[0,0].plot(ann_historyPCA.history['loss'], lw=4, label='loss')\n",
    "axs[0,0].plot(ann_historyPCA.history['val_loss'], lw=4, label='val_loss')\n",
    "axs[0,0].set_xlabel(\"epoch\", fontsize=16)\n",
    "axs[0,0].set_title(\"Neuronal Network training on PCA data\")\n",
    "axs[0,0].set_legend(fontsize=14)\n",
    "#-------------------------------\n",
    "axs[0,1].plot(ann_historyAEC.history['loss'], lw=4, label='loss')\n",
    "axs[0,1].plot(ann_historyAEC.history['val_loss'], lw=4, label='val_loss')\n",
    "axs[0,1].set_xlabel(\"epoch\", fontsize=16)\n",
    "axs[0,1].set_title(\"Neuronal Network training on classical compressed data\")\n",
    "axs[0,1].set_legend(fontsize=14)\n",
    "#-------------------------------\n",
    "axs[1,0].plot(ann_historyAEQ1.history['loss'], lw=4, label='loss')\n",
    "axs[1,0].plot(ann_historyAEQ1.history['val_loss'], lw=4, label='val_loss')\n",
    "axs[1,0].set_xlabel(\"epoch\", fontsize=16)\n",
    "axs[1,0].set_title(\"Neuronal Network training on quantum compressed data, version 1\")\n",
    "axs[1,0].set_legend(fontsize=14)\n",
    "#-------------------------------\n",
    "axs[1,1].plot(ann_historyAEQ2.history['loss'], lw=4, label='loss')\n",
    "axs[1,1].plot(ann_historyAEQ2.history['val_loss'], lw=4, label='val_loss')\n",
    "axs[1,1].set_xlabel(\"epoch\", fontsize=16)\n",
    "axs[1,1].set_title(\"Neuronal Network training on quantum compressed data, version 2\")\n",
    "axs[1,1].set_legend(fontsize=14)\n",
    "\n",
    "plt.show()\n",
    "fig.savefig(\"archive/history-\"+tag+\".png\")"
   ]
  },
  {
   "cell_type": "code",
   "execution_count": null,
   "metadata": {},
   "outputs": [],
   "source": [
    "annPCA.save(\"archive/model-\"+tag+\"PCA.h5\")\n",
    "annPCA.save_weights(\"archive/weights-\"+tag+\"PCA.h5\")\n",
    "config = annPCA.get_config()\n",
    "np.save(\"archive/config-\"+tag+\"PCA.npy\", config)\n",
    "#------------------\n",
    "annAEC.save(\"archive/model-\"+tag+\"AEC.h5\")\n",
    "annAEC.save_weights(\"archive/weights-\"+tag+\"AEC.h5\")\n",
    "config = annAEC.get_config()\n",
    "np.save(\"archive/config-\"+tag+\"AEC.npy\", config)\n",
    "#------------------\n",
    "annAEQ1.save(\"archive/model-\"+tag+\"AEQ1.h5\")\n",
    "annAEQ1.save_weights(\"archive/weights-\"+tag+\"AEQ1.h5\")\n",
    "config = annAEQ1.get_config()\n",
    "np.save(\"archive/config-\"+tag+\"AEQ1.npy\", config)\n",
    "#------------------\n",
    "annAEQ2.save(\"archive/model-\"+tag+\"AEQ2.h5\")\n",
    "annAEQ2.save_weights(\"archive/weights-\"+tag+\"AEQ2.h5\")\n",
    "config = annAEQ2.get_config()\n",
    "np.save(\"archive/config-\"+tag+\"AEQ2.npy\", config)"
   ]
  }
 ],
 "metadata": {
  "kernelspec": {
   "display_name": "Python 3",
   "language": "python",
   "name": "python3"
  },
  "language_info": {
   "codemirror_mode": {
    "name": "ipython",
    "version": 3
   },
   "file_extension": ".py",
   "mimetype": "text/x-python",
   "name": "python",
   "nbconvert_exporter": "python",
   "pygments_lexer": "ipython3",
   "version": "3.10.9"
  },
  "orig_nbformat": 4,
  "vscode": {
   "interpreter": {
    "hash": "3e6eaf00392b0cb8b5a646d3515e821c15d6342d64f11192f7e7dc8c1b273a06"
   }
  }
 },
 "nbformat": 4,
 "nbformat_minor": 2
}
