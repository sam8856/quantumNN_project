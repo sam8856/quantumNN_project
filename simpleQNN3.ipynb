{
 "cells": [
  {
   "cell_type": "code",
   "execution_count": null,
   "metadata": {},
   "outputs": [],
   "source": [
    "import numpy as np\n",
    "import tensorflow as tf\n",
    "import matplotlib.pyplot as plt\n",
    "import pennylane as qml\n",
    "\n",
    "# isn't there anything similar from tensorflow? split_dataset (tensorflow.keras.utils) only divides in left and right\n",
    "# There is but the data-type outcome is shitty, its PrefetchData, and it's annoying to work with it, I am open if you get it to work properly\n",
    "# Included the orders in the loading section, test it for yourself :)\n",
    "\n",
    "from sklearn.model_selection import train_test_split\n",
    "\n",
    "# Direct classes included for easyness\n",
    "from tensorflow.keras.utils import plot_model\n",
    "from tensorflow.keras.backend import clear_session\n",
    "from tensorflow.keras.layers import Dense, Input\n",
    "from tensorflow.keras.backend import clear_session\n",
    "from tensorflow.keras.models import Sequential, Model"
   ]
  },
  {
   "cell_type": "code",
   "execution_count": null,
   "metadata": {},
   "outputs": [],
   "source": [
    "# Load data\n",
    "np_data = np.load(\"data/dataRS.npy\")\n",
    "\n",
    "noise_output = np_data[:,-1].reshape(len(np_data),1)\n",
    "input = np_data[:,:-1]\n",
    "\n",
    "# split data\n",
    "test_split = 0.33\n",
    "x_train, x_test, y_train, y_test = train_test_split(input, noise_output, test_size=test_split)\n",
    "# seed = np.random.seed(156703)\n",
    "# x_train, x_test = tf.keras.utils.split_dataset(input, right_size=test_split, shuffle = True, seed=seed)\n",
    "# y_train, y_test = tf.keras.utils.split_dataset(noise_output, right_size=test_split, shuffle = True, seed=seed)"
   ]
  },
  {
   "attachments": {},
   "cell_type": "markdown",
   "metadata": {},
   "source": [
    "### Enter your tag as unique id for saving"
   ]
  },
  {
   "cell_type": "code",
   "execution_count": null,
   "metadata": {},
   "outputs": [],
   "source": [
    "tag = str(\"sQNN3-17032023\")"
   ]
  },
  {
   "cell_type": "code",
   "execution_count": null,
   "metadata": {},
   "outputs": [],
   "source": [
    "from pennylane import numpy as np\n",
    "n_qubits = x_train.shape[1]\n",
    "params = 3\n",
    "weight_shapes = {\"weight1\": (n_qubits,params),\n",
    "                 \"weight2\": (n_qubits),\n",
    "                 \"weight3\": (n_qubits)}\n",
    "n_qcParams = params*n_qubits\n",
    "print(f\"Params in the quantum layer to train: {n_qcParams}\")\n",
    "\n",
    "dev = qml.device(\"default.qubit\", wires=n_qubits)  # number of shots default? =1 du Horst\n",
    "\n",
    "@qml.qnode(dev)\n",
    "def qnode(inputs, weight1, weight2, weight3):\n",
    "    qml.broadcast(qml.Hadamard, wires=range(n_qubits), pattern=\"single\")\n",
    "    qml.broadcast(qml.RX, wires=range(n_qubits), parameters=inputs, pattern=\"single\")\n",
    "    qml.broadcast(qml.CNOT, wires=range(n_qubits), pattern=\"ring\")\n",
    "    qml.broadcast(qml.Rot, wires=range(n_qubits), parameters=weight1, pattern=\"single\")\n",
    "    qml.Toffoli(wires=[0,1,2])\n",
    "    qml.Toffoli(wires=[1,2,3])\n",
    "    qml.Toffoli(wires=[2,3,4])\n",
    "    qml.broadcast(qml.CRY, wires=range(n_qubits), parameters= weight2, pattern=\"ring\")\n",
    "    qml.broadcast(qml.CRZ, wires=range(n_qubits), parameters= weight3,  pattern=\"ring\")\n",
    "    qml.broadcast(qml.Hadamard, wires=range(n_qubits), pattern=\"single\")\n",
    "    return [qml.expval(qml.PauliZ(wires=i)) for i in range(n_qubits)]\n",
    "\n",
    "qlayer = qml.qnn.KerasLayer(qnode, weight_shapes, output_dim=n_qubits)\n",
    "\n",
    "# Visualize the quantum circuit\n",
    "print(qml.draw(qnode)(x_train[0,:],np.random.rand(n_qubits,3), np.random.rand(n_qubits), np.random.rand(n_qubits)))\n",
    "fig, ax = qml.draw_mpl(qnode)(x_train[0,:],np.random.rand(n_qubits,3, requires_grad=True), np.random.rand(n_qubits), np.random.rand(n_qubits))\n",
    "plt.show()"
   ]
  },
  {
   "cell_type": "code",
   "execution_count": null,
   "metadata": {},
   "outputs": [],
   "source": [
    "#Create a simple ANN\n",
    "import numpy as np\n",
    "clear_session()\n",
    "tf.keras.backend.set_floatx('float64')\n",
    "layer_0 = Input(shape=(x_train.shape[1],))\n",
    "layer_1 = Dense(5, activation=\"relu\")\n",
    "layer_2 = Dense(5, activation=\"linear\")\n",
    "ann = Sequential([layer_0, layer_1, qlayer, layer_2])\n",
    "print(f\"Params in the quantum layer to train: {n_qcParams}\")\n",
    "ann.summary()\n",
    "plot_model(ann)"
   ]
  },
  {
   "cell_type": "code",
   "execution_count": null,
   "metadata": {},
   "outputs": [],
   "source": [
    "#Training\n",
    "def scheduler(epoch, lr):\n",
    "    if epoch < 6:\n",
    "        return lr\n",
    "    else:\n",
    "        return lr/8 #* tf.math.exp(-0.1)\n",
    "LearningRateScheduler = tf.keras.callbacks.LearningRateScheduler(scheduler)\n",
    "EarlyStopping = tf.keras.callbacks.EarlyStopping(monitor=\"val_loss\", mode=\"auto\", min_delta=5, patience=3)\n",
    "opt = tf.keras.optimizers.RMSprop(learning_rate=0.18)\n",
    "\n",
    "ann.compile(opt, loss='mean_squared_error', metrics=['mean_absolute_error'])\n",
    "\n",
    "ann_history = ann.fit(x_train, y_train, epochs=20, batch_size=25, validation_split=0.25, callbacks=[LearningRateScheduler, EarlyStopping])"
   ]
  },
  {
   "cell_type": "code",
   "execution_count": null,
   "metadata": {},
   "outputs": [],
   "source": [
    "import numpy as np\n",
    "ann.summary()\n",
    "def plot_metrics(history):\n",
    "    n = len(history.history.keys())//2\n",
    "    fig,axs = plt.subplots(1,n, figsize=(18,5))\n",
    "\n",
    "    for i,[key,val] in enumerate(history.history.items()):\n",
    "        axs[i%n].plot(history.history[key], lw=4, label=key.replace(\"_\", \" \"))\n",
    "    \n",
    "    for ax in axs:\n",
    "        #ax.set_yscale(\"log\")\n",
    "        ax.set_xlabel(\"epoch\", fontsize=16)\n",
    "        ax.legend(fontsize=14)\n",
    "plot_metrics(ann_history)\n",
    "plt.savefig(\"archive/history-\"+tag+\".png\")"
   ]
  },
  {
   "cell_type": "code",
   "execution_count": null,
   "metadata": {},
   "outputs": [],
   "source": [
    "evaluation = ann.evaluate(x_test[:-1], y_test[:-1])"
   ]
  },
  {
   "cell_type": "code",
   "execution_count": null,
   "metadata": {},
   "outputs": [],
   "source": [
    "ann.save(\"archive/model-\"+tag+\".h5\")\n",
    "config = ann.get_config()\n",
    "np.save(\"archive/config-\"+tag+\".npy\", config)"
   ]
  }
 ],
 "metadata": {
  "kernelspec": {
   "display_name": "Python 3",
   "language": "python",
   "name": "python3"
  },
  "language_info": {
   "codemirror_mode": {
    "name": "ipython",
    "version": 3
   },
   "file_extension": ".py",
   "mimetype": "text/x-python",
   "name": "python",
   "nbconvert_exporter": "python",
   "pygments_lexer": "ipython3",
   "version": "3.10.9"
  },
  "orig_nbformat": 4,
  "vscode": {
   "interpreter": {
    "hash": "cb6164d6f6dd98322bde9d26a164e558f160764e692185fac5f2ab12a0b62824"
   }
  }
 },
 "nbformat": 4,
 "nbformat_minor": 2
}
