{
 "cells": [
  {
   "cell_type": "code",
   "execution_count": 1,
   "metadata": {},
   "outputs": [],
   "source": [
    "import numpy as np\n",
    "import tensorflow as tf\n",
    "import matplotlib.pyplot as plt\n",
    "import pennylane as qml\n",
    "\n",
    "from sklearn.model_selection import train_test_split\n",
    "\n",
    "# Direct classes included for easyness\n",
    "from tensorflow.keras.utils import plot_model\n",
    "from tensorflow.keras.backend import clear_session\n",
    "from tensorflow.keras.layers import Dense, Input\n",
    "from tensorflow.keras.backend import clear_session\n",
    "from tensorflow.keras.models import Model"
   ]
  },
  {
   "cell_type": "code",
   "execution_count": 2,
   "metadata": {},
   "outputs": [],
   "source": [
    "# load data\n",
    "np_data = np.load(\"data/dataRS.npy\")\n",
    "\n",
    "noise_output = np_data[:,-1].reshape(len(np_data),1)\n",
    "input = np_data[:,:-1]\n",
    "\n",
    "# split data\n",
    "test_split = 0.33\n",
    "x_train, x_test, y_train, y_test = train_test_split(input, noise_output, test_size=test_split)"
   ]
  },
  {
   "cell_type": "code",
   "execution_count": 3,
   "metadata": {},
   "outputs": [
    {
     "name": "stdout",
     "output_type": "stream",
     "text": [
      "tf.Tensor([1 3 5 7 4], shape=(5,), dtype=int32)\n"
     ]
    }
   ],
   "source": [
    "t3 = tf.constant([[1, 3, 5, 7, 4],\n",
    "                   [9, 11, 13, 15, 44],\n",
    "                   [17, 19, 21, 23, 33],\n",
    "                   [25, 27, 29, 31, 22]\n",
    "                  ])\n",
    "print(t3[0])\n"
   ]
  },
  {
   "cell_type": "code",
   "execution_count": 10,
   "metadata": {},
   "outputs": [
    {
     "name": "stdout",
     "output_type": "stream",
     "text": [
      "[0.01515152 0.18018018 0.72727273 0.         0.08084723]\n",
      "0: ──Rot──H──Rot(0.48,0.50,0.19)─╭●─╭X──Rot(0.41,0.84,0.92)─╭●─╭X──H─┤  <Z>\n",
      "1: ──Rot──H──Rot(0.88,0.08,0.28)─╰X─╰●──Rot(0.30,0.59,0.65)─╰X─╰●──H─┤  <Z>\n"
     ]
    }
   ],
   "source": [
    "from pennylane import numpy as np\n",
    "# In a first try, we use as much qubits as we have input params\n",
    "global n_qubits\n",
    "encoding_dim = 2\n",
    "inDim = x_train.shape[1]\n",
    "n_qubits = encoding_dim\n",
    "n_layer = 2\n",
    "weight_shapes = {\"weights\": (n_layer,n_qubits,3)}\n",
    "n_qcParams = n_layer*3*n_qubits\n",
    "\n",
    "dev = qml.device(\"default.qubit\", wires=n_qubits)  # number of shots default? =1 du Horst\n",
    "\n",
    "@qml.qnode(dev)\n",
    "def qnode(inputs, weights):\n",
    "    freq = input[:,0]#tf.gather(inputs, [0], axis=1)\n",
    "    chor = input[:,1]#tf.gather(inputs, [1], axis=1)\n",
    "    angl = input[:,2]#tf.gather(inputs, [2], axis=1)\n",
    "    velo = input[:,3]#tf.gather(inputs, [3], axis=1)\n",
    "    ssdt = input[:,4]#tf.gather(inputs, [4], axis=1)\n",
    "    # Bring everything in rotation of the two qubits\n",
    "    qml.Rot(freq, chor, angl, wires=0)\n",
    "    qml.Rot(velo, ssdt, angl, wires=1)\n",
    "    qml.Hadamard(wires=0)\n",
    "    qml.Hadamard(wires=1)\n",
    "    qml.StronglyEntanglingLayers(weights, wires=range(n_qubits))\n",
    "    qml.Hadamard(wires=0)\n",
    "    qml.Hadamard(wires=1)\n",
    "    return [qml.expval(qml.PauliZ(wires=i)) for i in range(n_qubits)]\n",
    "qlayer = qml.qnn.KerasLayer(qnode, weight_shapes, output_dim=n_qubits)\n",
    "print(x_train[0,:])\n",
    "print(qml.draw(qnode, expansion_strategy=\"device\")(x_train[:,0], np.random.rand(n_layer,n_qubits,3)))"
   ]
  },
  {
   "cell_type": "code",
   "execution_count": null,
   "metadata": {},
   "outputs": [],
   "source": [
    "dev = qml.device(\"default.qubit\", wires=n_qubits)\n",
    "\n",
    "@qml.encoder(dev)\n",
    "def encoder(inputs, weights):\n",
    "    \n",
    "    return [qml.expval(qml.PauliZ(wires=i)) for i in range(n_qubits)]"
   ]
  },
  {
   "cell_type": "code",
   "execution_count": 11,
   "metadata": {},
   "outputs": [
    {
     "name": "stdout",
     "output_type": "stream",
     "text": [
      "Params in the quantum layer to train: 12\n",
      "Model: \"model\"\n",
      "_________________________________________________________________\n",
      " Layer (type)                Output Shape              Param #   \n",
      "=================================================================\n",
      " input_1 (InputLayer)        [(None, 5)]               0         \n",
      "                                                                 \n",
      " keras_layer (KerasLayer)    (None, 2)                 0 (unused)\n",
      "                                                                 \n",
      " dense (Dense)               (None, 2)                 6         \n",
      "                                                                 \n",
      " dense_1 (Dense)             (None, 5)                 15        \n",
      "                                                                 \n",
      "=================================================================\n",
      "Total params: 21\n",
      "Trainable params: 21\n",
      "Non-trainable params: 0\n",
      "_________________________________________________________________\n",
      "You must install pydot (`pip install pydot`) and install graphviz (see instructions at https://graphviz.gitlab.io/download/) for plot_model to work.\n"
     ]
    }
   ],
   "source": [
    "#Create a autoencode like in https://blog.keras.io/building-autoencoders-in-keras.html\n",
    "clear_session()\n",
    "\n",
    "inputLayer = Input(shape=(x_train.shape[1],))\n",
    "encoded = qlayer(inputLayer)\n",
    "translate = Dense(n_qubits,activation='linear')(encoded)\n",
    "decoded = Dense(x_train.shape[1], activation=\"relu\")(translate)\n",
    "autoencoder = Model(inputLayer, decoded)\n",
    "print(f\"Params in the quantum layer to train: {n_qcParams}\")\n",
    "autoencoder.summary()\n",
    "\n",
    "plot_model(autoencoder)"
   ]
  },
  {
   "cell_type": "code",
   "execution_count": 6,
   "metadata": {},
   "outputs": [],
   "source": [
    "# Encoder\n",
    "encoder = Model(inputLayer, encoded)\n",
    "# Decoder\n",
    "encoded_input = Input(shape=(encoding_dim,))\n",
    "translate_layer = autoencoder.layers[-2]\n",
    "decoder_layer = autoencoder.layers[-1]\n",
    "decoder = Model(encoded_input, decoder_layer(translate_layer(encoded_input)))\n"
   ]
  },
  {
   "cell_type": "code",
   "execution_count": 7,
   "metadata": {},
   "outputs": [
    {
     "name": "stdout",
     "output_type": "stream",
     "text": [
      "Epoch 1/2\n"
     ]
    },
    {
     "ename": "InvalidArgumentError",
     "evalue": "Exception encountered when calling layer 'keras_layer' (type KerasLayer).\n\n{{function_node __wrapped__GatherV2_device_/job:localhost/replica:0/task:0/device:CPU:0}} Shape must be at least rank 2 but is rank 1 [Op:GatherV2]\n\nCall arguments received by layer 'keras_layer' (type KerasLayer):\n  • inputs=tf.Tensor(shape=(25, 5), dtype=float32)",
     "output_type": "error",
     "traceback": [
      "\u001b[1;31m---------------------------------------------------------------------------\u001b[0m",
      "\u001b[1;31mInvalidArgumentError\u001b[0m                      Traceback (most recent call last)",
      "Cell \u001b[1;32mIn[7], line 4\u001b[0m\n\u001b[0;32m      1\u001b[0m \u001b[39m#Training\u001b[39;00m\n\u001b[0;32m      2\u001b[0m \u001b[39m#['mean_squared_error', 'mean_absolute_error','mean_squared_logarithmic_error', 'mean_absolute_percentage_error']\u001b[39;00m\n\u001b[0;32m      3\u001b[0m autoencoder\u001b[39m.\u001b[39mcompile(optimizer \u001b[39m=\u001b[39m \u001b[39m'\u001b[39m\u001b[39mrmsprop\u001b[39m\u001b[39m'\u001b[39m, loss\u001b[39m=\u001b[39m\u001b[39m'\u001b[39m\u001b[39mmean_squared_error\u001b[39m\u001b[39m'\u001b[39m, metrics\u001b[39m=\u001b[39m[\u001b[39m'\u001b[39m\u001b[39mmean_squared_error\u001b[39m\u001b[39m'\u001b[39m, \u001b[39m'\u001b[39m\u001b[39mmean_absolute_error\u001b[39m\u001b[39m'\u001b[39m])\n\u001b[1;32m----> 4\u001b[0m autoencoder_history \u001b[39m=\u001b[39m autoencoder\u001b[39m.\u001b[39;49mfit(x_train, x_train, epochs\u001b[39m=\u001b[39;49m\u001b[39m2\u001b[39;49m, batch_size\u001b[39m=\u001b[39;49m\u001b[39m25\u001b[39;49m, validation_split\u001b[39m=\u001b[39;49m\u001b[39m0.25\u001b[39;49m)\n",
      "File \u001b[1;32mc:\\Users\\Samuel\\AppData\\Local\\Programs\\Python\\Python310\\lib\\site-packages\\keras\\utils\\traceback_utils.py:70\u001b[0m, in \u001b[0;36mfilter_traceback.<locals>.error_handler\u001b[1;34m(*args, **kwargs)\u001b[0m\n\u001b[0;32m     67\u001b[0m     filtered_tb \u001b[39m=\u001b[39m _process_traceback_frames(e\u001b[39m.\u001b[39m__traceback__)\n\u001b[0;32m     68\u001b[0m     \u001b[39m# To get the full stack trace, call:\u001b[39;00m\n\u001b[0;32m     69\u001b[0m     \u001b[39m# `tf.debugging.disable_traceback_filtering()`\u001b[39;00m\n\u001b[1;32m---> 70\u001b[0m     \u001b[39mraise\u001b[39;00m e\u001b[39m.\u001b[39mwith_traceback(filtered_tb) \u001b[39mfrom\u001b[39;00m \u001b[39mNone\u001b[39m\n\u001b[0;32m     71\u001b[0m \u001b[39mfinally\u001b[39;00m:\n\u001b[0;32m     72\u001b[0m     \u001b[39mdel\u001b[39;00m filtered_tb\n",
      "File \u001b[1;32mc:\\Users\\Samuel\\AppData\\Local\\Programs\\Python\\Python310\\lib\\site-packages\\pennylane\\qnn\\keras.py:302\u001b[0m, in \u001b[0;36mKerasLayer.call\u001b[1;34m(self, inputs)\u001b[0m\n\u001b[0;32m    300\u001b[0m     reconstructor \u001b[39m=\u001b[39m []\n\u001b[0;32m    301\u001b[0m     \u001b[39mfor\u001b[39;00m x \u001b[39min\u001b[39;00m tf\u001b[39m.\u001b[39munstack(inputs):\n\u001b[1;32m--> 302\u001b[0m         reconstructor\u001b[39m.\u001b[39mappend(\u001b[39mself\u001b[39;49m\u001b[39m.\u001b[39;49mcall(x))\n\u001b[0;32m    303\u001b[0m     \u001b[39mreturn\u001b[39;00m tf\u001b[39m.\u001b[39mstack(reconstructor)\n\u001b[0;32m    305\u001b[0m \u001b[39mreturn\u001b[39;00m \u001b[39mself\u001b[39m\u001b[39m.\u001b[39m_evaluate_qnode(inputs)\n",
      "File \u001b[1;32mc:\\Users\\Samuel\\AppData\\Local\\Programs\\Python\\Python310\\lib\\site-packages\\pennylane\\qnn\\keras.py:305\u001b[0m, in \u001b[0;36mKerasLayer.call\u001b[1;34m(self, inputs)\u001b[0m\n\u001b[0;32m    302\u001b[0m         reconstructor\u001b[39m.\u001b[39mappend(\u001b[39mself\u001b[39m\u001b[39m.\u001b[39mcall(x))\n\u001b[0;32m    303\u001b[0m     \u001b[39mreturn\u001b[39;00m tf\u001b[39m.\u001b[39mstack(reconstructor)\n\u001b[1;32m--> 305\u001b[0m \u001b[39mreturn\u001b[39;00m \u001b[39mself\u001b[39;49m\u001b[39m.\u001b[39;49m_evaluate_qnode(inputs)\n",
      "File \u001b[1;32mc:\\Users\\Samuel\\AppData\\Local\\Programs\\Python\\Python310\\lib\\site-packages\\pennylane\\qnn\\keras.py:320\u001b[0m, in \u001b[0;36mKerasLayer._evaluate_qnode\u001b[1;34m(self, x)\u001b[0m\n\u001b[0;32m    308\u001b[0m \u001b[39m\u001b[39m\u001b[39m\"\"\"Evaluates a QNode for a single input datapoint.\u001b[39;00m\n\u001b[0;32m    309\u001b[0m \n\u001b[0;32m    310\u001b[0m \u001b[39mArgs:\u001b[39;00m\n\u001b[1;32m   (...)\u001b[0m\n\u001b[0;32m    314\u001b[0m \u001b[39m    tensor: output datapoint\u001b[39;00m\n\u001b[0;32m    315\u001b[0m \u001b[39m\"\"\"\u001b[39;00m\n\u001b[0;32m    316\u001b[0m kwargs \u001b[39m=\u001b[39m {\n\u001b[0;32m    317\u001b[0m     \u001b[39m*\u001b[39m\u001b[39m*\u001b[39m{\u001b[39mself\u001b[39m\u001b[39m.\u001b[39minput_arg: x},\n\u001b[0;32m    318\u001b[0m     \u001b[39m*\u001b[39m\u001b[39m*\u001b[39m{k: \u001b[39m1.0\u001b[39m \u001b[39m*\u001b[39m w \u001b[39mfor\u001b[39;00m k, w \u001b[39min\u001b[39;00m \u001b[39mself\u001b[39m\u001b[39m.\u001b[39mqnode_weights\u001b[39m.\u001b[39mitems()},\n\u001b[0;32m    319\u001b[0m }\n\u001b[1;32m--> 320\u001b[0m \u001b[39mreturn\u001b[39;00m \u001b[39mself\u001b[39m\u001b[39m.\u001b[39mqnode(\u001b[39m*\u001b[39m\u001b[39m*\u001b[39mkwargs)\n",
      "File \u001b[1;32mc:\\Users\\Samuel\\AppData\\Local\\Programs\\Python\\Python310\\lib\\site-packages\\pennylane\\qnode.py:842\u001b[0m, in \u001b[0;36mQNode.__call__\u001b[1;34m(self, *args, **kwargs)\u001b[0m\n\u001b[0;32m    839\u001b[0m         set_shots(\u001b[39mself\u001b[39m\u001b[39m.\u001b[39m_original_device, override_shots)(\u001b[39mself\u001b[39m\u001b[39m.\u001b[39m_update_gradient_fn)()\n\u001b[0;32m    841\u001b[0m \u001b[39m# construct the tape\u001b[39;00m\n\u001b[1;32m--> 842\u001b[0m \u001b[39mself\u001b[39;49m\u001b[39m.\u001b[39;49mconstruct(args, kwargs)\n\u001b[0;32m    844\u001b[0m cache \u001b[39m=\u001b[39m \u001b[39mself\u001b[39m\u001b[39m.\u001b[39mexecute_kwargs\u001b[39m.\u001b[39mget(\u001b[39m\"\u001b[39m\u001b[39mcache\u001b[39m\u001b[39m\"\u001b[39m, \u001b[39mFalse\u001b[39;00m)\n\u001b[0;32m    845\u001b[0m using_custom_cache \u001b[39m=\u001b[39m (\n\u001b[0;32m    846\u001b[0m     \u001b[39mhasattr\u001b[39m(cache, \u001b[39m\"\u001b[39m\u001b[39m__getitem__\u001b[39m\u001b[39m\"\u001b[39m)\n\u001b[0;32m    847\u001b[0m     \u001b[39mand\u001b[39;00m \u001b[39mhasattr\u001b[39m(cache, \u001b[39m\"\u001b[39m\u001b[39m__setitem__\u001b[39m\u001b[39m\"\u001b[39m)\n\u001b[0;32m    848\u001b[0m     \u001b[39mand\u001b[39;00m \u001b[39mhasattr\u001b[39m(cache, \u001b[39m\"\u001b[39m\u001b[39m__delitem__\u001b[39m\u001b[39m\"\u001b[39m)\n\u001b[0;32m    849\u001b[0m )\n",
      "File \u001b[1;32mc:\\Users\\Samuel\\AppData\\Local\\Programs\\Python\\Python310\\lib\\site-packages\\pennylane\\qnode.py:751\u001b[0m, in \u001b[0;36mQNode.construct\u001b[1;34m(self, args, kwargs)\u001b[0m\n\u001b[0;32m    748\u001b[0m \u001b[39mif\u001b[39;00m old_interface \u001b[39m==\u001b[39m \u001b[39m\"\u001b[39m\u001b[39mauto\u001b[39m\u001b[39m\"\u001b[39m:\n\u001b[0;32m    749\u001b[0m     \u001b[39mself\u001b[39m\u001b[39m.\u001b[39minterface \u001b[39m=\u001b[39m qml\u001b[39m.\u001b[39mmath\u001b[39m.\u001b[39mget_interface(\u001b[39m*\u001b[39margs, \u001b[39m*\u001b[39m\u001b[39mlist\u001b[39m(kwargs\u001b[39m.\u001b[39mvalues()))\n\u001b[1;32m--> 751\u001b[0m \u001b[39mself\u001b[39m\u001b[39m.\u001b[39m_tape \u001b[39m=\u001b[39m make_qscript(\u001b[39mself\u001b[39m\u001b[39m.\u001b[39mfunc)(\u001b[39m*\u001b[39margs, \u001b[39m*\u001b[39m\u001b[39m*\u001b[39mkwargs)\n\u001b[0;32m    752\u001b[0m \u001b[39mself\u001b[39m\u001b[39m.\u001b[39m_qfunc_output \u001b[39m=\u001b[39m \u001b[39mself\u001b[39m\u001b[39m.\u001b[39mtape\u001b[39m.\u001b[39m_qfunc_output\n\u001b[0;32m    754\u001b[0m params \u001b[39m=\u001b[39m \u001b[39mself\u001b[39m\u001b[39m.\u001b[39mtape\u001b[39m.\u001b[39mget_parameters(trainable_only\u001b[39m=\u001b[39m\u001b[39mFalse\u001b[39;00m)\n",
      "File \u001b[1;32mc:\\Users\\Samuel\\AppData\\Local\\Programs\\Python\\Python310\\lib\\site-packages\\pennylane\\tape\\qscript.py:1371\u001b[0m, in \u001b[0;36mmake_qscript.<locals>.wrapper\u001b[1;34m(*args, **kwargs)\u001b[0m\n\u001b[0;32m   1369\u001b[0m \u001b[39mdef\u001b[39;00m \u001b[39mwrapper\u001b[39m(\u001b[39m*\u001b[39margs, \u001b[39m*\u001b[39m\u001b[39m*\u001b[39mkwargs):\n\u001b[0;32m   1370\u001b[0m     \u001b[39mwith\u001b[39;00m AnnotatedQueue() \u001b[39mas\u001b[39;00m q:\n\u001b[1;32m-> 1371\u001b[0m         result \u001b[39m=\u001b[39m fn(\u001b[39m*\u001b[39margs, \u001b[39m*\u001b[39m\u001b[39m*\u001b[39mkwargs)\n\u001b[0;32m   1373\u001b[0m     qscript \u001b[39m=\u001b[39m QuantumScript\u001b[39m.\u001b[39mfrom_queue(q)\n\u001b[0;32m   1374\u001b[0m     qscript\u001b[39m.\u001b[39m_qfunc_output \u001b[39m=\u001b[39m result\n",
      "Cell \u001b[1;32mIn[4], line 16\u001b[0m, in \u001b[0;36mqnode\u001b[1;34m(inputs, weights)\u001b[0m\n\u001b[0;32m     13\u001b[0m \u001b[39m@qml\u001b[39m\u001b[39m.\u001b[39mqnode(dev)\n\u001b[0;32m     14\u001b[0m \u001b[39mdef\u001b[39;00m \u001b[39mqnode\u001b[39m(inputs, weights):\n\u001b[0;32m     15\u001b[0m     \u001b[39m# Frequency and CHord length\u001b[39;00m\n\u001b[1;32m---> 16\u001b[0m     freq \u001b[39m=\u001b[39m tf\u001b[39m.\u001b[39;49mgather(inputs, [\u001b[39m0\u001b[39;49m], axis\u001b[39m=\u001b[39;49m\u001b[39m1\u001b[39;49m)\n\u001b[0;32m     17\u001b[0m     chor \u001b[39m=\u001b[39m tf\u001b[39m.\u001b[39mgather(inputs, [\u001b[39m1\u001b[39m], axis\u001b[39m=\u001b[39m\u001b[39m1\u001b[39m)\n\u001b[0;32m     18\u001b[0m     angl \u001b[39m=\u001b[39m tf\u001b[39m.\u001b[39mgather(inputs, [\u001b[39m2\u001b[39m], axis\u001b[39m=\u001b[39m\u001b[39m1\u001b[39m)\n",
      "\u001b[1;31mInvalidArgumentError\u001b[0m: Exception encountered when calling layer 'keras_layer' (type KerasLayer).\n\n{{function_node __wrapped__GatherV2_device_/job:localhost/replica:0/task:0/device:CPU:0}} Shape must be at least rank 2 but is rank 1 [Op:GatherV2]\n\nCall arguments received by layer 'keras_layer' (type KerasLayer):\n  • inputs=tf.Tensor(shape=(25, 5), dtype=float32)"
     ]
    }
   ],
   "source": [
    "#Training\n",
    "#['mean_squared_error', 'mean_absolute_error','mean_squared_logarithmic_error', 'mean_absolute_percentage_error']\n",
    "autoencoder.compile(optimizer = 'rmsprop', loss='mean_squared_error', metrics=['mean_squared_error', 'mean_absolute_error'])\n",
    "autoencoder_history = autoencoder.fit(x_train, x_train, epochs=2, batch_size=25, validation_split=0.25)"
   ]
  },
  {
   "cell_type": "code",
   "execution_count": null,
   "metadata": {},
   "outputs": [],
   "source": [
    "def plot_metrics(history):\n",
    "    n = len(history.history.keys())//2\n",
    "    fig,axs = plt.subplots(1,n, figsize=(18,5))\n",
    "\n",
    "    for i,[key,val] in enumerate(history.history.items()):\n",
    "        axs[i%n].plot(history.history[key], lw=4, label=key.replace(\"_\", \" \"))\n",
    "    \n",
    "    for ax in axs:\n",
    "        #ax.set_yscale(\"log\")\n",
    "        ax.set_xlabel(\"epoch\", fontsize=16)\n",
    "        ax.legend(fontsize=14)\n",
    "plot_metrics(autoencoder_history)\n",
    "plt.savefig(\"archive/history-Qencoder-16032023.png\")"
   ]
  },
  {
   "cell_type": "code",
   "execution_count": null,
   "metadata": {},
   "outputs": [],
   "source": [
    "evaluation = autoencoder.evaluate(x_test[:-1], x_test[:-1])\n",
    "encoded_test = encoder.predict(x_test)\n",
    "# decoded_test = decoder.predict(encoded_test)\n",
    "print(f'Data: {x_test[0,:]} to be: {encoded_test[0,:]} and rebuilded it to: {decoded_test[0,:]}')"
   ]
  },
  {
   "cell_type": "code",
   "execution_count": null,
   "metadata": {},
   "outputs": [],
   "source": [
    "encoder.save(\"archive/model-Qencoder-16032023.h5\")\n",
    "config = encoder.get_config()\n",
    "np.save(\"archive/config-Qencoder-16032023.npy\", config)"
   ]
  },
  {
   "cell_type": "code",
   "execution_count": null,
   "metadata": {},
   "outputs": [],
   "source": []
  }
 ],
 "metadata": {
  "kernelspec": {
   "display_name": "Python 3",
   "language": "python",
   "name": "python3"
  },
  "language_info": {
   "codemirror_mode": {
    "name": "ipython",
    "version": 3
   },
   "file_extension": ".py",
   "mimetype": "text/x-python",
   "name": "python",
   "nbconvert_exporter": "python",
   "pygments_lexer": "ipython3",
   "version": "3.10.9"
  },
  "orig_nbformat": 4,
  "vscode": {
   "interpreter": {
    "hash": "3e6eaf00392b0cb8b5a646d3515e821c15d6342d64f11192f7e7dc8c1b273a06"
   }
  }
 },
 "nbformat": 4,
 "nbformat_minor": 2
}
